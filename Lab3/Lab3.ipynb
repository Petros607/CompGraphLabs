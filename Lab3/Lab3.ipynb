{
 "cells": [
  {
   "cell_type": "code",
   "execution_count": 38,
   "metadata": {},
   "outputs": [],
   "source": [
    "import math\n",
    "import numpy as np\n",
    "import matplotlib.pyplot as plt\n",
    "from PIL import Image, ImageDraw"
   ]
  },
  {
   "cell_type": "code",
   "execution_count": 39,
   "metadata": {},
   "outputs": [],
   "source": [
    "def draw_natural_line(draw, x1, y1, x2, y2):\n",
    "    \"\"\"\n",
    "    Естественный алгоритм рисования прямой \n",
    "    \"\"\"\n",
    "    dx = x2 - x1\n",
    "    dy = y2 - y1\n",
    "    steps = max(abs(dx), abs(dy))\n",
    "    x_inc = dx / float(steps)\n",
    "    y_inc = dy / float(steps)\n",
    "    x = x1\n",
    "    y = y1\n",
    "    for _ in range(steps + 1):\n",
    "        draw.point((round(x), round(y)), fill=\"black\")\n",
    "        x += x_inc\n",
    "        y += y_inc\n"
   ]
  },
  {
   "cell_type": "code",
   "execution_count": 40,
   "metadata": {},
   "outputs": [],
   "source": [
    "def draw_bresenham_circle(draw, xc, yc, radius):\n",
    "    \"\"\"\n",
    "    Алгоритм Брезенхама для рисования окружности \n",
    "    \"\"\"\n",
    "    x = radius\n",
    "    y = 0\n",
    "    p = 1 - radius  # Начальное значение\n",
    "    while x > y:\n",
    "        # Рисуем 8 симметричных точек\n",
    "        draw.point((xc + x, yc + y), fill=\"black\")\n",
    "        draw.point((xc - x, yc + y), fill=\"black\")\n",
    "        draw.point((xc + x, yc - y), fill=\"black\")\n",
    "        draw.point((xc - x, yc - y), fill=\"black\")\n",
    "        draw.point((xc + y, yc + x), fill=\"black\")\n",
    "        draw.point((xc - y, yc + x), fill=\"black\")\n",
    "        draw.point((xc + y, yc - x), fill=\"black\")\n",
    "        draw.point((xc - y, yc - x), fill=\"black\")\n",
    "        y += 1\n",
    "        if p <= 0:\n",
    "            p = p + 2 * y + 1\n",
    "        else:\n",
    "            x -= 1\n",
    "            p = p + 2 * y - 2 * x + 1\n"
   ]
  },
  {
   "cell_type": "code",
   "execution_count": 41,
   "metadata": {},
   "outputs": [],
   "source": [
    "def draw_bezier_curve(draw, p0, p1, p2, p3, num_points=100):\n",
    "    \"\"\"\n",
    "    Геометрический способ построения кривых Безье\n",
    "    \"\"\"\n",
    "    for t in range(num_points + 1):\n",
    "        t /= num_points\n",
    "        x = int((1 - t) ** 3 * p0[0] + 3 * (1 - t) ** 2 * t * p1[0] +\n",
    "                 3 * (1 - t) * t ** 2 * p2[0] + t ** 3 * p3[0])\n",
    "        y = int((1 - t) ** 3 * p0[1] + 3 * (1 - t) ** 2 * t * p1[1] +\n",
    "                 3 * (1 - t) * t ** 2 * p2[1] + t ** 3 * p3[1])\n",
    "        draw.point((x, y), fill=\"black\")\n"
   ]
  },
  {
   "cell_type": "code",
   "execution_count": 42,
   "metadata": {},
   "outputs": [],
   "source": [
    "def flood_fill(image, x, y, target_color, replacement_color):\n",
    "    \"\"\"\n",
    "    Короед\n",
    "    \"\"\"\n",
    "    pixels = image.load()\n",
    "    if pixels[x, y] != target_color:\n",
    "        return\n",
    "    \n",
    "    stack = [(x, y)]\n",
    "    while stack:\n",
    "        x, y = stack.pop()\n",
    "        if pixels[x, y] == target_color:\n",
    "            pixels[x, y] = replacement_color\n",
    "            stack.extend([(x + dx, y + dy) for dx, dy in [(-1, 0), (1, 0), (0, -1), (0, 1)]])\n"
   ]
  },
  {
   "cell_type": "code",
   "execution_count": 13,
   "metadata": {},
   "outputs": [],
   "source": [
    "def patterned_fill(image, x, y, target_color, pattern):\n",
    "    \"\"\"\n",
    "    Модифицированный рекурсивный алгоритм с \"затравкой\"\n",
    "    \"\"\"\n",
    "    pixels = image.load()\n",
    "    width, height = pattern.size\n",
    "    px_pattern = pattern.load()\n",
    "    \n",
    "    def recursive_fill(x, y):\n",
    "        if pixels[x, y] != target_color:\n",
    "            return\n",
    "        pixels[x, y] = px_pattern[x % width, y % height]\n",
    "        for dx, dy in [(-1, 0), (1, 0), (0, -1), (0, 1)]:\n",
    "            nx, ny = x + dx, y + dy\n",
    "            if 0 <= nx < image.width and 0 <= ny < image.height:\n",
    "                recursive_fill(nx, ny)\n",
    "    \n",
    "    recursive_fill(x, y)\n"
   ]
  },
  {
   "cell_type": "code",
   "execution_count": 45,
   "metadata": {},
   "outputs": [],
   "source": [
    "img_size = (200, 200)\n",
    "house_img = Image.new(\"RGB\", img_size, \"white\")\n",
    "draw = ImageDraw.Draw(house_img)\n",
    "house_img.show()\n",
    "# Рисуем стены\n",
    "# draw_natural_line(draw, 50, 50, 50, 150)  # Левая стена\n",
    "# draw_natural_line(draw, 50, 150, 150, 150)  # Нижняя стена\n",
    "# draw_natural_line(draw, 150, 150, 150, 50)  # Правая стена\n",
    "# draw_natural_line(draw, 150, 50, 50, 50)  # Верхняя стена\n",
    "\n",
    "# # Рисуем окна (круги)\n",
    "# draw_bresenham_circle(draw, 75, 125, 10)  # Левое окно\n",
    "# draw_bresenham_circle(draw, 125, 125, 10)  # Правое окно\n",
    "\n",
    "# # Рисуем крышу\n",
    "# draw_natural_line(draw, 50, 50, 100, 20)  # Левый скат крыши\n",
    "# draw_natural_line(draw, 100, 20, 150, 50)  # Правый скат крыши\n",
    "\n",
    "# # Закраска стен с помощью алгоритма \"короеда\"\n",
    "# flood_fill(house_img, 55, 55, house_img.getpixel((55, 55)), (255, 200, 200))\n",
    "\n",
    "# # Создаем узор для закраски\n",
    "# pattern = Image.new(\"RGB\", (10, 10), \"white\")\n",
    "# pattern_draw = ImageDraw.Draw(pattern)\n",
    "# pattern_draw.line((0, 0, 10, 10), fill=\"gray\", width=1)\n",
    "# pattern_draw.line((0, 10, 10, 0), fill=\"gray\", width=1)\n",
    "\n",
    "# # Закраска стен с узором\n",
    "# patterned_fill(house_img, 55, 55, (255, 200, 200), pattern)\n",
    "\n",
    "# # Отображаем результат\n",
    "# house_img.show()"
   ]
  },
  {
   "cell_type": "code",
   "execution_count": null,
   "metadata": {},
   "outputs": [],
   "source": []
  },
  {
   "cell_type": "code",
   "execution_count": null,
   "metadata": {},
   "outputs": [],
   "source": []
  }
 ],
 "metadata": {
  "kernelspec": {
   "display_name": "base",
   "language": "python",
   "name": "python3"
  },
  "language_info": {
   "codemirror_mode": {
    "name": "ipython",
    "version": 3
   },
   "file_extension": ".py",
   "mimetype": "text/x-python",
   "name": "python",
   "nbconvert_exporter": "python",
   "pygments_lexer": "ipython3",
   "version": "3.12.4"
  }
 },
 "nbformat": 4,
 "nbformat_minor": 2
}
